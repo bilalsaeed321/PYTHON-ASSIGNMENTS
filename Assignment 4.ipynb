{
 "cells": [
  {
   "cell_type": "code",
   "execution_count": 7,
   "metadata": {},
   "outputs": [
    {
     "name": "stdout",
     "output_type": "stream",
     "text": [
      "Bilal\n",
      "Saeed\n",
      "20\n",
      "Karachi\n",
      "B.COM\n",
      "None\n"
     ]
    }
   ],
   "source": [
    "my_dict = {'First Name':'Bilal','Last name':'Saeed','Age': 20,'City':'Karachi'}\n",
    "\n",
    "print(my_dict['First Name'])\n",
    "print(my_dict['Last name'])\n",
    "\n",
    "print(my_dict.get('Age'))\n",
    "print(my_dict.get('City'))\n",
    "\n",
    "my_dict = {'qualification':'Secondary'}\n",
    "\n",
    "\n",
    "my_dict['qualification']='B.COM'\n",
    "print(my_dict.get('qualification'))\n",
    "\n",
    "del my_dict['qualification']\n",
    "print(my_dict.get('qualification'))"
   ]
  },
  {
   "cell_type": "code",
   "execution_count": 5,
   "metadata": {},
   "outputs": [
    {
     "name": "stdout",
     "output_type": "stream",
     "text": [
      "Karachi\n",
      "Pakistan\n",
      "14.91 million\n",
      "It is the 6th largest city in the world\n",
      "Paris\n",
      "France\n",
      "2.141 million\n",
      "Paris is known as the city of love\n",
      "Dehli\n",
      "India\n",
      "18.98 million\n",
      "Dehli is the home to the largest market of spices in Asia\n"
     ]
    }
   ],
   "source": [
    "cities = [\n",
    "{\n",
    "    \"City\":'Karachi',\n",
    "    \"Country\":'Pakistan',\n",
    "    \"Population\":'14.91 million',\n",
    "    \"Fact\":'It is the 6th largest city in the world'\n",
    "},\n",
    "    { \"City\":'Paris',\n",
    "    \"Country\":'France',\n",
    "    \"Population\":'2.141 million',\n",
    "    \"Fact\":'Paris is known as the city of love'\n",
    "    },\n",
    "    { \"City\":'Dehli',\n",
    "    \"Country\":'India',\n",
    "    \"Population\":'18.98 million',\n",
    "    \"Fact\":'Dehli is the home to the largest market of spices in Asia'\n",
    "    }\n",
    "]\n",
    "print(cities[0][\"City\"])\n",
    "print(cities[0][\"Country\"])\n",
    "print(cities[0][\"Population\"])\n",
    "print(cities[0][\"Fact\"])\n",
    "\n",
    "print(cities[1][\"City\"])\n",
    "print(cities[1][\"Country\"])\n",
    "print(cities[1][\"Population\"])\n",
    "print(cities[1][\"Fact\"])\n",
    "\n",
    "print(cities[2][\"City\"])\n",
    "print(cities[2][\"Country\"])\n",
    "print(cities[2][\"Population\"])\n",
    "print(cities[2][\"Fact\"])"
   ]
  },
  {
   "cell_type": "code",
   "execution_count": 1,
   "metadata": {},
   "outputs": [
    {
     "name": "stdout",
     "output_type": "stream",
     "text": [
      "Welcome To Movie Theater\n",
      "Enter the number of person:3\n",
      "Enter the Age of person:2\n",
      "Your Ticket is Free! Enjoy Your Movie\n",
      "Enter the Age of person:11\n",
      "Your Ticket Price will be 10$\n",
      "Enter the Age of person:23\n",
      "Your Ticket Price will be 15$\n",
      "Total Amount =  25  $ Enjoy Your Movie\n"
     ]
    }
   ],
   "source": [
    "print(\"Welcome To Movie Theater\")\n",
    "persons = int(input(\"Enter the number of person:\"))\n",
    "Total_Price = 0\n",
    "for i in range(1, persons+1):\n",
    "    age = int(input(\"Enter the Age of person:\"))\n",
    "    if age <= 3:\n",
    "        print(\"Your Ticket is Free! Enjoy Your Movie\")\n",
    "    elif age <= 12:\n",
    "        print(\"Your Ticket Price will be 10$\")\n",
    "        Total_Price +=10\n",
    "    else:\n",
    "        print(\"Your Ticket Price will be 15$\")\n",
    "        Total_Price +=15\n",
    "print(\"Total Amount = \",Total_Price,\" $ Enjoy Your Movie\")"
   ]
  },
  {
   "cell_type": "code",
   "execution_count": 2,
   "metadata": {},
   "outputs": [
    {
     "name": "stdout",
     "output_type": "stream",
     "text": [
      "Alice In The Wonderland is one of my favourite boooks.\n"
     ]
    }
   ],
   "source": [
    "def favourite_book(title):\n",
    "    \"\"\"Display a message about someone's favourite book.\"\"\"\n",
    "    print(title + \" is one of my favourite boooks.\")\n",
    "favourite_book('Alice In The Wonderland')"
   ]
  },
  {
   "cell_type": "code",
   "execution_count": 3,
   "metadata": {},
   "outputs": [
    {
     "name": "stdout",
     "output_type": "stream",
     "text": [
      "guess the number between 1 to 30:21\n",
      "Your guess is too low\n",
      "guess the number between 1 to 30:26\n",
      "Your guess is too high\n",
      "guess the number between 1 to 30:24\n",
      "Your guess is too high\n",
      "You Loose\n",
      "Corect Number is 23\n"
     ]
    }
   ],
   "source": [
    "import random\n",
    "random_number = random.randrange(1,30)\n",
    "flag= False\n",
    "for i in range(1,4):\n",
    "    guess = int(input(\"guess the number between 1 to 30:\"))\n",
    "    if guess == random_number:\n",
    "        flag = True\n",
    "        break\n",
    "    elif guess < random_number:\n",
    "        print(\"Your guess is too low\")\n",
    "    else:\n",
    "        print(\"Your guess is too high\")\n",
    "if flag:\n",
    "    print(\"Congratulation You Win!!\")\n",
    "else:\n",
    "    print(\"You Loose\")\n",
    "    print(\"Corect Number is\", random_number)\n"
   ]
  },
  {
   "cell_type": "code",
   "execution_count": null,
   "metadata": {},
   "outputs": [],
   "source": []
  }
 ],
 "metadata": {
  "kernelspec": {
   "display_name": "Python 3",
   "language": "python",
   "name": "python3"
  },
  "language_info": {
   "codemirror_mode": {
    "name": "ipython",
    "version": 3
   },
   "file_extension": ".py",
   "mimetype": "text/x-python",
   "name": "python",
   "nbconvert_exporter": "python",
   "pygments_lexer": "ipython3",
   "version": "3.7.4"
  }
 },
 "nbformat": 4,
 "nbformat_minor": 2
}
